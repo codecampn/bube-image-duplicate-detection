{
 "cells": [
  {
   "cell_type": "markdown",
   "id": "b6c3ef514b77a16",
   "metadata": {},
   "source": "# Experiment to showcase duplicate detection"
  },
  {
   "cell_type": "markdown",
   "id": "26e2b580051c8c2e",
   "metadata": {},
   "source": [
    "This Notebooks shows a step by step approach to duplicate detection.\n",
    "It requires that the BUBE App is already running."
   ]
  },
  {
   "cell_type": "markdown",
   "id": "4c4155aa71f7a3a2",
   "metadata": {},
   "source": "## Settings and Imports"
  },
  {
   "cell_type": "code",
   "execution_count": null,
   "id": "1f20b89e7ec9e978",
   "metadata": {},
   "outputs": [],
   "source": [
    "import importlib.resources as impresources\n",
    "import os\n",
    "import random\n",
    "\n",
    "import requests\n",
    "from PIL import Image, ImageOps, ImageEnhance, ImageFilter"
   ]
  },
  {
   "cell_type": "code",
   "execution_count": null,
   "id": "ba99ea44a991cc84",
   "metadata": {},
   "outputs": [],
   "source": [
    "# Path of the running BUBE APP\n",
    "BUBE_URL = \"http://localhost:8000\""
   ]
  },
  {
   "cell_type": "markdown",
   "id": "8f45f0d2ce524fff",
   "metadata": {},
   "source": "## Data Preparation"
  },
  {
   "cell_type": "markdown",
   "id": "457d2281f71aa7e7",
   "metadata": {},
   "source": [
    "In the folder `tests/test_assets` are 5 images that are duplicates of each other.\n",
    "These are called **feex_check00<NUMBER>.jpg**"
   ]
  },
  {
   "cell_type": "code",
   "execution_count": null,
   "id": "24aba469b099423f",
   "metadata": {},
   "outputs": [],
   "source": [
    "image_root = str(impresources.files(\"tests\") / \"test_assets\")\n",
    "filenames_assets = [f\"feex_check00{i}.jpg\" for i in range(1, 6)]"
   ]
  },
  {
   "cell_type": "markdown",
   "id": "86454444536ab64d",
   "metadata": {},
   "source": [
    "For each image, we create multiple variants to test the duplicate detection.\n",
    "The variants are created by the `add_variants_of_img()` function by applying the following transformations:\n",
    "- Resize to 256x256 and 1024x1024\n",
    "- Rotation\n",
    "- Horizontal and Vertical Flip\n",
    "- Cropping\n",
    "- Contrast, Brightness, Saturation\n",
    "- Grayscale\n",
    "- Blur\n",
    "- Edge Enhance\n",
    "- Random Rotation\n",
    "\n",
    "The resulting variants are stored in the same folder as the original images."
   ]
  },
  {
   "cell_type": "code",
   "execution_count": null,
   "id": "initial_id",
   "metadata": {},
   "outputs": [],
   "source": [
    "def add_variants_of_img(path: str):\n",
    "    file_ending = f\".{path.split(\".\")[-1]}\"\n",
    "    img_og = Image.open(path).convert(\"RGB\")\n",
    "\n",
    "    img_og.save(path.replace(file_ending, f\"_duplicate{file_ending}\"))\n",
    "\n",
    "    img = ImageOps.contain(img_og, (256, 256))\n",
    "    img.save(path.replace(file_ending, f\"_resize_small{file_ending}\"))\n",
    "\n",
    "    img = ImageOps.contain(img_og, (1024, 1024))\n",
    "    img.save(path.replace(file_ending, f\"_resize{file_ending}\"))\n",
    "\n",
    "    img = img_og.rotate(20).resize((img_og.height, img_og.width))\n",
    "    img.save(path.replace(file_ending, f\"_rotate{file_ending}\"))\n",
    "\n",
    "    img = ImageOps.mirror(img_og)\n",
    "    img.save(path.replace(file_ending, f\"_mirror{file_ending}\"))\n",
    "\n",
    "    img = ImageOps.flip(img_og)\n",
    "    img.save(path.replace(file_ending, f\"_flip{file_ending}\"))\n",
    "\n",
    "    width, height = img_og.size\n",
    "    left = width // 4\n",
    "    top = height // 4\n",
    "    right = 3 * width // 4\n",
    "    bottom = 3 * height // 4\n",
    "    img = img_og.crop((left, top, right, bottom))\n",
    "    img.save(path.replace(file_ending, f\"_crop{file_ending}\"))\n",
    "\n",
    "    enhancer = ImageEnhance.Contrast(img_og)\n",
    "    img = enhancer.enhance(1.5)\n",
    "    img.save(path.replace(file_ending, f\"_contrast{file_ending}\"))\n",
    "\n",
    "    enhancer = ImageEnhance.Brightness(img_og)\n",
    "    img = enhancer.enhance(0.7)\n",
    "    img.save(path.replace(file_ending, f\"_brightness{file_ending}\"))\n",
    "\n",
    "    enhancer = ImageEnhance.Color(img_og)\n",
    "    img = enhancer.enhance(1.5)\n",
    "    img.save(path.replace(file_ending, f\"_saturation{file_ending}\"))\n",
    "\n",
    "    img = ImageOps.grayscale(img_og)\n",
    "    img.save(path.replace(file_ending, f\"_grayscale{file_ending}\"))\n",
    "\n",
    "    img = img_og.filter(ImageFilter.GaussianBlur(radius=2))\n",
    "    img.save(path.replace(file_ending, f\"_blur{file_ending}\"))\n",
    "\n",
    "    img = img_og.filter(ImageFilter.EDGE_ENHANCE)\n",
    "    img.save(path.replace(file_ending, f\"_edge_enhance{file_ending}\"))\n",
    "\n",
    "    angle = random.randint(0, 360)\n",
    "    img = img_og.rotate(angle, expand=True)\n",
    "    img.save(path.replace(file_ending, f\"_random_rotate{file_ending}\"))"
   ]
  },
  {
   "cell_type": "code",
   "execution_count": null,
   "id": "2538a23287ae83c3",
   "metadata": {},
   "outputs": [],
   "source": [
    "for filename in filenames_assets:\n",
    "    add_variants_of_img(f\"{image_root}/{filename}\")"
   ]
  },
  {
   "cell_type": "code",
   "execution_count": null,
   "id": "4f2e847c84585d06",
   "metadata": {},
   "outputs": [],
   "source": [
    "# Path of the variants without the original images\n",
    "filenames_variants = os.listdir(image_root)\n",
    "filenames_variants = [name for name in filenames_variants if name.lower().endswith((\".jpg\", \".jpeg\", \".png\", \".heif\"))]\n",
    "filenames_variants = [name for name in filenames_variants if name not in filenames_assets]"
   ]
  },
  {
   "cell_type": "markdown",
   "id": "7803c38081ba2eb1",
   "metadata": {},
   "source": "## Data Upload"
  },
  {
   "cell_type": "markdown",
   "id": "6a712c2755f802d5",
   "metadata": {},
   "source": [
    "We store all variants of the images in the Vector Database without the original images.\n",
    "These will be used afterward for the duplication check."
   ]
  },
  {
   "cell_type": "markdown",
   "id": "efc60fcd25ff73a",
   "metadata": {},
   "source": "We send the images as binaries to the `feex/insert` endpoint of the BUBE App."
  },
  {
   "cell_type": "code",
   "execution_count": null,
   "id": "b5309ced96a8b33f",
   "metadata": {},
   "outputs": [],
   "source": [
    "mime_types = {\"jpg\": \"image/jpeg\", \"jpeg\": \"image/jpeg\", \"png\": \"image/png\", \"heif\": \"image/heif\"}\n",
    "\n",
    "\n",
    "def send_image_to_bube(image_folder_path: str, filenames: list[str]):\n",
    "    image_files = []\n",
    "\n",
    "    for file in filenames:\n",
    "        file_path = os.path.join(image_folder_path, file)\n",
    "        mime_type = mime_types.get(file.split(\".\")[-1], \"image/jpeg\")\n",
    "        image_files.append((\"images\", (file, open(file_path, \"rb\"), mime_type)))\n",
    "\n",
    "    if not image_files:\n",
    "        print(\"No Images with specified filenames could be found.\")\n",
    "        return\n",
    "\n",
    "    try:\n",
    "        response = requests.post(f\"{BUBE_URL}/feex/insert\", files=image_files)\n",
    "        response.raise_for_status()\n",
    "        print(\"Images successfully uploaded.\")\n",
    "    except requests.exceptions.RequestException:\n",
    "        print(f\"Request failed. Is the BUBE App running on {BUBE_URL}?\")\n",
    "    finally:\n",
    "        # close file handlers\n",
    "        for _, file_tuple in image_files:\n",
    "            file_tuple[1].close()"
   ]
  },
  {
   "cell_type": "code",
   "execution_count": null,
   "id": "755abaa9d3b40fca",
   "metadata": {},
   "outputs": [],
   "source": [
    "send_image_to_bube(image_root, filenames_variants)"
   ]
  },
  {
   "cell_type": "markdown",
   "id": "73f1be8408c56bdf",
   "metadata": {},
   "source": "## Duplicate Detection"
  },
  {
   "cell_type": "markdown",
   "id": "1a28b1a4b644d362",
   "metadata": {},
   "source": [
    "After adding the different variants, we can now check for duplicates.\n",
    "Each variant should be detected as a duplicate of the original image."
   ]
  },
  {
   "cell_type": "code",
   "execution_count": null,
   "id": "723f4fb97b38f76c",
   "metadata": {},
   "outputs": [],
   "source": [
    "def duplicate_check_for_image(image_folder_path: str, img_filename: str):\n",
    "    img_filepath = os.path.join(image_folder_path, img_filename)\n",
    "    files = [(\"images\", (img_filename, open(img_filepath, \"rb\"), \"image/jpeg\"))]\n",
    "    try:\n",
    "        response = requests.post(f\"{BUBE_URL}/feex\", files=files)\n",
    "        response.raise_for_status()\n",
    "        # print(f\"Duplicate check for {img_filepath} successful.\")\n",
    "        res = response.json()\n",
    "    except requests.exceptions.RequestException:\n",
    "        print(f\"Request failed. Is the BUBE App running on {BUBE_URL}?\")\n",
    "        res = None\n",
    "    finally:\n",
    "        for _, file_tuple in files:\n",
    "            file_tuple[1].close()\n",
    "    return res\n",
    "\n",
    "\n",
    "def check_if_all_variants_are_detected(image_folder_path: str, img_filename: str):\n",
    "    res = duplicate_check_for_image(image_folder_path, img_filename)\n",
    "    if res is None:\n",
    "        return False\n",
    "    print(f\"The number of duplicates for {img_filename} is {res[0]['duplicates']['num_of_files']}\\n\")\n",
    "    return res[0][\"duplicates\"][\"num_of_files\"] >= 14"
   ]
  },
  {
   "cell_type": "code",
   "execution_count": null,
   "id": "a3b9e53f191391dd",
   "metadata": {},
   "outputs": [],
   "source": [
    "for filename in filenames_assets:\n",
    "    check_if_all_variants_are_detected(image_folder_path=image_root, img_filename=filename)"
   ]
  }
 ],
 "metadata": {
  "kernelspec": {
   "display_name": "Python 3",
   "language": "python",
   "name": "python3"
  },
  "language_info": {
   "codemirror_mode": {
    "name": "ipython",
    "version": 2
   },
   "file_extension": ".py",
   "mimetype": "text/x-python",
   "name": "python",
   "nbconvert_exporter": "python",
   "pygments_lexer": "ipython2",
   "version": "2.7.6"
  }
 },
 "nbformat": 4,
 "nbformat_minor": 5
}
