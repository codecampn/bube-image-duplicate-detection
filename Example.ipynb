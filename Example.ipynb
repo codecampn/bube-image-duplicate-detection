{
 "cells": [
  {
   "cell_type": "markdown",
   "id": "a0bf3b9d2d4cbc00",
   "metadata": {},
   "source": "# Examples for the usage of the BUBE app through the REST API with Python"
  },
  {
   "cell_type": "markdown",
   "id": "6afc764ac798508c",
   "metadata": {},
   "source": "## Settings and Imports"
  },
  {
   "cell_type": "code",
   "execution_count": null,
   "id": "bd29a335ebac051",
   "metadata": {},
   "outputs": [],
   "source": [
    "import os\n",
    "\n",
    "import requests"
   ]
  },
  {
   "cell_type": "code",
   "execution_count": null,
   "id": "105a40da66360e0a",
   "metadata": {},
   "outputs": [],
   "source": [
    "# Path of the running BUBE APP\n",
    "BUBE_URL = \"http://localhost:8000\""
   ]
  },
  {
   "cell_type": "markdown",
   "id": "2de6a7a185a5a027",
   "metadata": {},
   "source": "## Sending Images as binary data"
  },
  {
   "cell_type": "code",
   "execution_count": null,
   "id": "a53990d8926a8e50",
   "metadata": {},
   "outputs": [],
   "source": [
    "mime_types = {\"jpg\": \"image/jpeg\", \"jpeg\": \"image/jpeg\", \"png\": \"image/png\", \"heif\": \"image/heif\"}"
   ]
  },
  {
   "cell_type": "code",
   "execution_count": null,
   "id": "93285c29ea676359",
   "metadata": {},
   "outputs": [],
   "source": [
    "def embed_images_binary(folder_path: str):\n",
    "    image_files = []\n",
    "\n",
    "    for filename in os.listdir(folder_path):\n",
    "        if filename.lower().endswith((\".png\", \".jpg\", \".jpeg\", \".heif\")):\n",
    "            file_path = os.path.join(folder_path, filename)\n",
    "            mime_type = mime_types.get(filename.split(\".\")[-1].lower(), \"image/jpeg\")\n",
    "            image_files.append((\"images\", (filename, open(file_path, \"rb\"), mime_type)))\n",
    "\n",
    "    if not image_files:\n",
    "        print(\"No Images found in the folder\")\n",
    "\n",
    "    try:\n",
    "        response = requests.post(f\"{BUBE_URL}/embeddings\", files=image_files)\n",
    "        response.raise_for_status()\n",
    "        print(\"Images successfully uploaded.\")\n",
    "        res = response.json()\n",
    "    except requests.exceptions.RequestException:\n",
    "        print(f\"Request failed. Is the BUBE App running on {BUBE_URL}?\")\n",
    "        res = None\n",
    "    finally:\n",
    "        for _, file_tuple in image_files:\n",
    "            file_tuple[1].close()\n",
    "\n",
    "    return res"
   ]
  },
  {
   "cell_type": "code",
   "execution_count": null,
   "id": "cb1c456563544a82",
   "metadata": {},
   "outputs": [],
   "source": [
    "def save_images_feex_binary(folder_path: str):\n",
    "    image_files = []\n",
    "\n",
    "    for filename in os.listdir(folder_path):\n",
    "        if filename.lower().endswith((\".png\", \".jpg\", \".jpeg\", \".heif\")):\n",
    "            file_path = os.path.join(folder_path, filename)\n",
    "            mime_type = mime_types.get(filename.split(\".\")[-1].lower(), \"image/jpeg\")\n",
    "            image_files.append((\"images\", (filename, open(file_path, \"rb\"), mime_type)))\n",
    "\n",
    "    if not image_files:\n",
    "        print(\"No Images with specified filenames could be found.\")\n",
    "        return\n",
    "\n",
    "    try:\n",
    "        response = requests.post(f\"{BUBE_URL}/feex/insert\", files=image_files)\n",
    "        response.raise_for_status()\n",
    "        print(\"Images successfully uploaded.\")\n",
    "    except requests.exceptions.RequestException:\n",
    "        print(f\"Request failed. Is the BUBE App running on {BUBE_URL}?\")\n",
    "    finally:\n",
    "        # close file handlers\n",
    "        for _, file_tuple in image_files:\n",
    "            file_tuple[1].close()"
   ]
  },
  {
   "cell_type": "code",
   "execution_count": null,
   "id": "7b5b4f066565d005",
   "metadata": {},
   "outputs": [],
   "source": [
    "def duplicate_check_single_image_binary(image_folder_path: str, img_filename: str):\n",
    "    img_filepath = os.path.join(image_folder_path, img_filename)\n",
    "    files = [(\"images\", (img_filename, open(img_filepath, \"rb\"), \"image/jpeg\"))]\n",
    "    try:\n",
    "        response = requests.post(f\"{BUBE_URL}/feex\", files=files)\n",
    "        response.raise_for_status()\n",
    "        # print(f\"Duplicate check for {img_filepath} successful.\")\n",
    "        res = response.json()\n",
    "    except requests.exceptions.RequestException:\n",
    "        print(f\"Request failed. Is the BUBE App running on {BUBE_URL}?\")\n",
    "        res = None\n",
    "    finally:\n",
    "        for _, file_tuple in files:\n",
    "            file_tuple[1].close()\n",
    "    return res"
   ]
  }
 ],
 "metadata": {
  "kernelspec": {
   "display_name": "Python 3",
   "language": "python",
   "name": "python3"
  },
  "language_info": {
   "codemirror_mode": {
    "name": "ipython",
    "version": 2
   },
   "file_extension": ".py",
   "mimetype": "text/x-python",
   "name": "python",
   "nbconvert_exporter": "python",
   "pygments_lexer": "ipython2",
   "version": "2.7.6"
  }
 },
 "nbformat": 4,
 "nbformat_minor": 5
}
